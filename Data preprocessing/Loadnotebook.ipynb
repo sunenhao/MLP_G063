{
 "cells": [
  {
   "cell_type": "code",
   "execution_count": 55,
   "metadata": {},
   "outputs": [],
   "source": [
    "import pandas as pd\n",
    "import numpy as np\n",
    "import os\n",
    "import imageio\n",
    "from tqdm import tqdm\n",
    "from skimage.transform import resize as imresize\n",
    "from sklearn.model_selection import train_test_split"
   ]
  },
  {
   "cell_type": "code",
   "execution_count": 56,
   "metadata": {},
   "outputs": [],
   "source": [
    "def img_reshape(img):\n",
    "    img = imresize(img, (51, 51, 3))\n",
    "    return img\n",
    "\n",
    "def img_label(path):\n",
    "    return str(str(path.split('/')[-1]))\n",
    "\n",
    "def img_class(path):\n",
    "    return str(str(path.split('/')[-2]))\n",
    "\n",
    "def fill_dict(paths, some_dict):\n",
    "    text = ''\n",
    "    isTest = False\n",
    "    if 'train' in paths[0]:\n",
    "        text = 'Start fill train_dict'\n",
    "    elif 'test' in paths[0]:\n",
    "        text = 'Start fill test_dict'\n",
    "        isTest = True\n",
    "\n",
    "    for p in tqdm(paths, ascii=True, ncols=85, desc=text):\n",
    "        img = imageio.imread(p)\n",
    "        img = img_reshape(img)\n",
    "        some_dict['inputs'].append(img)\n",
    "        if isTest:\n",
    "            some_dict['targets'].append(\"Sugar beet\")\n",
    "        else:\n",
    "            some_dict['targets'].append(img_class(p))\n",
    "            \n",
    "        if 'test' in paths[0]:\n",
    "            some_dict['labels'].append(img_label(p))\n",
    "\n",
    "    return some_dict\n",
    "\n",
    "def reader():\n",
    "    file_ext = []\n",
    "    train_path = []\n",
    "    test_path = []\n",
    "\n",
    "    for root, dirs, files in os.walk('../plant-seedlings-classification/'):\n",
    "        if dirs != []:\n",
    "            print('Root:\\n'+str(root))\n",
    "            print('Dirs:\\n'+str(dirs))\n",
    "        else:\n",
    "            for f in files:\n",
    "                ext = os.path.splitext(str(f))[1][1:]\n",
    "\n",
    "                if ext not in file_ext:\n",
    "                    file_ext.append(ext)\n",
    "\n",
    "                if 'train' in root:\n",
    "                    path = os.path.join(root, f)\n",
    "                    train_path.append(path)\n",
    "                elif 'test' in root:\n",
    "                    path = os.path.join(root, f)\n",
    "                    test_path.append(path)\n",
    "    train_dict = {\n",
    "        'inputs': [],\n",
    "        'targets': []\n",
    "    }\n",
    "    test_dict = {\n",
    "        'inputs': [],\n",
    "        'labels':[],\n",
    "        'targets': []\n",
    "    }\n",
    "\n",
    "    train_dict = fill_dict(train_path, train_dict)\n",
    "    test_dict = fill_dict(test_path, test_dict)\n",
    "    return train_dict, test_dict"
   ]
  },
  {
   "cell_type": "code",
   "execution_count": 57,
   "metadata": {},
   "outputs": [
    {
     "name": "stderr",
     "output_type": "stream",
     "text": [
      "Start fill train_dict:   0%|                                | 0/4750 [00:00<?, ?it/s]/usr/local/lib/python3.7/site-packages/skimage/transform/_warps.py:105: UserWarning: The default mode, 'constant', will be changed to 'reflect' in skimage 0.15.\n",
      "  warn(\"The default mode, 'constant', will be changed to 'reflect' in \"\n",
      "/usr/local/lib/python3.7/site-packages/skimage/transform/_warps.py:110: UserWarning: Anti-aliasing will be enabled by default in skimage 0.15 to avoid aliasing artifacts when down-sampling images.\n",
      "  warn(\"Anti-aliasing will be enabled by default in skimage 0.15 to \"\n",
      "Start fill train_dict:   0%|                        | 6/4750 [00:00<01:22, 57.53it/s]"
     ]
    },
    {
     "name": "stdout",
     "output_type": "stream",
     "text": [
      "Root:\n",
      "../plant-seedlings-classification/\n",
      "Dirs:\n",
      "['test', 'train']\n",
      "Root:\n",
      "../plant-seedlings-classification/train\n",
      "Dirs:\n",
      "['Cleavers', 'Sugar beet', 'Common Chickweed', 'Loose Silky-bent', 'Scentless Mayweed', 'Shepherds Purse', 'Fat Hen', 'Common wheat', 'Black-grass', 'Small-flowered Cranesbill', 'Charlock', 'Maize']\n"
     ]
    },
    {
     "name": "stderr",
     "output_type": "stream",
     "text": [
      "Start fill train_dict: 100%|#####################| 4750/4750 [02:05<00:00, 37.96it/s]\n",
      "Start fill test_dict: 100%|########################| 794/794 [00:08<00:00, 97.07it/s]\n"
     ]
    }
   ],
   "source": [
    "train, test = reader()"
   ]
  },
  {
   "cell_type": "code",
   "execution_count": 58,
   "metadata": {},
   "outputs": [
    {
     "name": "stdout",
     "output_type": "stream",
     "text": [
      "(3956, 51, 51, 3)\n",
      "(3956,)\n",
      "(794, 51, 51, 3)\n",
      "(794,)\n"
     ]
    }
   ],
   "source": [
    "# test:794, train:4750\n",
    "X_train, X_valid, y_train, y_valid = train_test_split(train[\"inputs\"], train[\"targets\"], test_size=794, random_state=63)\n",
    "\n",
    "train_set = {\n",
    "    'inputs': [],\n",
    "    'targets': [] \n",
    "}\n",
    "\n",
    "valid_set = {\n",
    "    'inputs': [],\n",
    "    'targets': []\n",
    "}\n",
    "\n",
    "train_set['inputs'].append(X_train)\n",
    "train_set['targets'].append(y_train)\n",
    "valid_set['inputs'].append(X_valid)\n",
    "valid_set['targets'].append(y_valid)\n",
    "\n",
    "shape = np.shape(train_set['inputs'])\n",
    "train_set['inputs'] = np.reshape(train_set['inputs'], shape[1:])\n",
    "shape = np.shape(train_set['targets'])\n",
    "train_set['targets'] = np.reshape(train_set['targets'], shape[1:])\n",
    "\n",
    "shape = np.shape(valid_set['inputs'])\n",
    "valid_set['inputs'] = np.reshape(valid_set['inputs'], shape[1:])\n",
    "shape = np.shape(valid_set['targets'])\n",
    "valid_set['targets'] = np.reshape(valid_set['targets'], shape[1:])\n",
    "\n",
    "print(train_set['inputs'].shape)\n",
    "print(train_set['targets'].shape)\n",
    "print(valid_set['inputs'].shape)\n",
    "print(valid_set['targets'].shape)"
   ]
  },
  {
   "cell_type": "code",
   "execution_count": 59,
   "metadata": {},
   "outputs": [],
   "source": [
    "np.savez(\"../data/plant-test\",**test)\n",
    "np.savez(\"../data/plant-train\",**train_set)\n",
    "np.savez(\"../data/plant-valid\",**valid_set)"
   ]
  },
  {
   "cell_type": "code",
   "execution_count": null,
   "metadata": {},
   "outputs": [],
   "source": []
  }
 ],
 "metadata": {
  "kernelspec": {
   "display_name": "Python 3",
   "language": "python",
   "name": "python3"
  },
  "language_info": {
   "codemirror_mode": {
    "name": "ipython",
    "version": 3
   },
   "file_extension": ".py",
   "mimetype": "text/x-python",
   "name": "python",
   "nbconvert_exporter": "python",
   "pygments_lexer": "ipython3",
   "version": "3.7.2"
  }
 },
 "nbformat": 4,
 "nbformat_minor": 2
}
